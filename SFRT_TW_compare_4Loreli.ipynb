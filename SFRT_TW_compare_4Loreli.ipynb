{
 "cells": [
  {
   "cell_type": "markdown",
   "metadata": {},
   "source": [
    "# Notebook to Visualize and Compare Reference Data "
   ]
  },
  {
   "cell_type": "code",
   "execution_count": 20,
   "metadata": {},
   "outputs": [],
   "source": [
    "# !pip install pandas_bokeh"
   ]
  },
  {
   "cell_type": "code",
   "execution_count": 21,
   "metadata": {},
   "outputs": [],
   "source": [
    "import pandas as pd\n",
    "import numpy as np\n",
    "import boto3\n",
    "import io\n",
    "\n",
    "import pandas_bokeh\n",
    "from bokeh.io import output_file, show\n",
    "from bokeh.models import BasicTicker, ColorBar, LinearColorMapper, ColumnDataSource, PrintfTickFormatter\n",
    "from bokeh.plotting import figure, save\n",
    "from bokeh.transform import transform\n",
    "from bokeh.layouts import grid, row\n",
    "\n",
    "\n",
    "import datetime as dt\n",
    "from pytz import timezone\n",
    "\n",
    "import matplotlib.pyplot as plt\n",
    "%matplotlib inline\n",
    "\n",
    "from datetime import timedelta\n",
    "\n"
   ]
  },
  {
   "cell_type": "code",
   "execution_count": 22,
   "metadata": {},
   "outputs": [
    {
     "data": {
      "text/html": [
       "<div class=\"bk-root\">\n",
       "        <a href=\"https://bokeh.org\" target=\"_blank\" class=\"bk-logo bk-logo-small bk-logo-notebook\"></a>\n",
       "        <span id=\"4365\">Loading BokehJS ...</span>\n",
       "    </div>\n"
      ]
     },
     "metadata": {},
     "output_type": "display_data"
    },
    {
     "data": {
      "application/javascript": [
       "(function(root) {\n",
       "  function now() {\n",
       "    return new Date();\n",
       "  }\n",
       "\n",
       "  const force = true;\n",
       "\n",
       "  if (typeof root._bokeh_onload_callbacks === \"undefined\" || force === true) {\n",
       "    root._bokeh_onload_callbacks = [];\n",
       "    root._bokeh_is_loading = undefined;\n",
       "  }\n",
       "\n",
       "const JS_MIME_TYPE = 'application/javascript';\n",
       "  const HTML_MIME_TYPE = 'text/html';\n",
       "  const EXEC_MIME_TYPE = 'application/vnd.bokehjs_exec.v0+json';\n",
       "  const CLASS_NAME = 'output_bokeh rendered_html';\n",
       "\n",
       "  /**\n",
       "   * Render data to the DOM node\n",
       "   */\n",
       "  function render(props, node) {\n",
       "    const script = document.createElement(\"script\");\n",
       "    node.appendChild(script);\n",
       "  }\n",
       "\n",
       "  /**\n",
       "   * Handle when an output is cleared or removed\n",
       "   */\n",
       "  function handleClearOutput(event, handle) {\n",
       "    const cell = handle.cell;\n",
       "\n",
       "    const id = cell.output_area._bokeh_element_id;\n",
       "    const server_id = cell.output_area._bokeh_server_id;\n",
       "    // Clean up Bokeh references\n",
       "    if (id != null && id in Bokeh.index) {\n",
       "      Bokeh.index[id].model.document.clear();\n",
       "      delete Bokeh.index[id];\n",
       "    }\n",
       "\n",
       "    if (server_id !== undefined) {\n",
       "      // Clean up Bokeh references\n",
       "      const cmd_clean = \"from bokeh.io.state import curstate; print(curstate().uuid_to_server['\" + server_id + \"'].get_sessions()[0].document.roots[0]._id)\";\n",
       "      cell.notebook.kernel.execute(cmd_clean, {\n",
       "        iopub: {\n",
       "          output: function(msg) {\n",
       "            const id = msg.content.text.trim();\n",
       "            if (id in Bokeh.index) {\n",
       "              Bokeh.index[id].model.document.clear();\n",
       "              delete Bokeh.index[id];\n",
       "            }\n",
       "          }\n",
       "        }\n",
       "      });\n",
       "      // Destroy server and session\n",
       "      const cmd_destroy = \"import bokeh.io.notebook as ion; ion.destroy_server('\" + server_id + \"')\";\n",
       "      cell.notebook.kernel.execute(cmd_destroy);\n",
       "    }\n",
       "  }\n",
       "\n",
       "  /**\n",
       "   * Handle when a new output is added\n",
       "   */\n",
       "  function handleAddOutput(event, handle) {\n",
       "    const output_area = handle.output_area;\n",
       "    const output = handle.output;\n",
       "\n",
       "    // limit handleAddOutput to display_data with EXEC_MIME_TYPE content only\n",
       "    if ((output.output_type != \"display_data\") || (!Object.prototype.hasOwnProperty.call(output.data, EXEC_MIME_TYPE))) {\n",
       "      return\n",
       "    }\n",
       "\n",
       "    const toinsert = output_area.element.find(\".\" + CLASS_NAME.split(' ')[0]);\n",
       "\n",
       "    if (output.metadata[EXEC_MIME_TYPE][\"id\"] !== undefined) {\n",
       "      toinsert[toinsert.length - 1].firstChild.textContent = output.data[JS_MIME_TYPE];\n",
       "      // store reference to embed id on output_area\n",
       "      output_area._bokeh_element_id = output.metadata[EXEC_MIME_TYPE][\"id\"];\n",
       "    }\n",
       "    if (output.metadata[EXEC_MIME_TYPE][\"server_id\"] !== undefined) {\n",
       "      const bk_div = document.createElement(\"div\");\n",
       "      bk_div.innerHTML = output.data[HTML_MIME_TYPE];\n",
       "      const script_attrs = bk_div.children[0].attributes;\n",
       "      for (let i = 0; i < script_attrs.length; i++) {\n",
       "        toinsert[toinsert.length - 1].firstChild.setAttribute(script_attrs[i].name, script_attrs[i].value);\n",
       "        toinsert[toinsert.length - 1].firstChild.textContent = bk_div.children[0].textContent\n",
       "      }\n",
       "      // store reference to server id on output_area\n",
       "      output_area._bokeh_server_id = output.metadata[EXEC_MIME_TYPE][\"server_id\"];\n",
       "    }\n",
       "  }\n",
       "\n",
       "  function register_renderer(events, OutputArea) {\n",
       "\n",
       "    function append_mime(data, metadata, element) {\n",
       "      // create a DOM node to render to\n",
       "      const toinsert = this.create_output_subarea(\n",
       "        metadata,\n",
       "        CLASS_NAME,\n",
       "        EXEC_MIME_TYPE\n",
       "      );\n",
       "      this.keyboard_manager.register_events(toinsert);\n",
       "      // Render to node\n",
       "      const props = {data: data, metadata: metadata[EXEC_MIME_TYPE]};\n",
       "      render(props, toinsert[toinsert.length - 1]);\n",
       "      element.append(toinsert);\n",
       "      return toinsert\n",
       "    }\n",
       "\n",
       "    /* Handle when an output is cleared or removed */\n",
       "    events.on('clear_output.CodeCell', handleClearOutput);\n",
       "    events.on('delete.Cell', handleClearOutput);\n",
       "\n",
       "    /* Handle when a new output is added */\n",
       "    events.on('output_added.OutputArea', handleAddOutput);\n",
       "\n",
       "    /**\n",
       "     * Register the mime type and append_mime function with output_area\n",
       "     */\n",
       "    OutputArea.prototype.register_mime_type(EXEC_MIME_TYPE, append_mime, {\n",
       "      /* Is output safe? */\n",
       "      safe: true,\n",
       "      /* Index of renderer in `output_area.display_order` */\n",
       "      index: 0\n",
       "    });\n",
       "  }\n",
       "\n",
       "  // register the mime type if in Jupyter Notebook environment and previously unregistered\n",
       "  if (root.Jupyter !== undefined) {\n",
       "    const events = require('base/js/events');\n",
       "    const OutputArea = require('notebook/js/outputarea').OutputArea;\n",
       "\n",
       "    if (OutputArea.prototype.mime_types().indexOf(EXEC_MIME_TYPE) == -1) {\n",
       "      register_renderer(events, OutputArea);\n",
       "    }\n",
       "  }\n",
       "  if (typeof (root._bokeh_timeout) === \"undefined\" || force === true) {\n",
       "    root._bokeh_timeout = Date.now() + 5000;\n",
       "    root._bokeh_failed_load = false;\n",
       "  }\n",
       "\n",
       "  const NB_LOAD_WARNING = {'data': {'text/html':\n",
       "     \"<div style='background-color: #fdd'>\\n\"+\n",
       "     \"<p>\\n\"+\n",
       "     \"BokehJS does not appear to have successfully loaded. If loading BokehJS from CDN, this \\n\"+\n",
       "     \"may be due to a slow or bad network connection. Possible fixes:\\n\"+\n",
       "     \"</p>\\n\"+\n",
       "     \"<ul>\\n\"+\n",
       "     \"<li>re-rerun `output_notebook()` to attempt to load from CDN again, or</li>\\n\"+\n",
       "     \"<li>use INLINE resources instead, as so:</li>\\n\"+\n",
       "     \"</ul>\\n\"+\n",
       "     \"<code>\\n\"+\n",
       "     \"from bokeh.resources import INLINE\\n\"+\n",
       "     \"output_notebook(resources=INLINE)\\n\"+\n",
       "     \"</code>\\n\"+\n",
       "     \"</div>\"}};\n",
       "\n",
       "  function display_loaded() {\n",
       "    const el = document.getElementById(\"4365\");\n",
       "    if (el != null) {\n",
       "      el.textContent = \"BokehJS is loading...\";\n",
       "    }\n",
       "    if (root.Bokeh !== undefined) {\n",
       "      if (el != null) {\n",
       "        el.textContent = \"BokehJS \" + root.Bokeh.version + \" successfully loaded.\";\n",
       "      }\n",
       "    } else if (Date.now() < root._bokeh_timeout) {\n",
       "      setTimeout(display_loaded, 100)\n",
       "    }\n",
       "  }\n",
       "\n",
       "  function run_callbacks() {\n",
       "    try {\n",
       "      root._bokeh_onload_callbacks.forEach(function(callback) {\n",
       "        if (callback != null)\n",
       "          callback();\n",
       "      });\n",
       "    } finally {\n",
       "      delete root._bokeh_onload_callbacks\n",
       "    }\n",
       "    console.debug(\"Bokeh: all callbacks have finished\");\n",
       "  }\n",
       "\n",
       "  function load_libs(css_urls, js_urls, callback) {\n",
       "    if (css_urls == null) css_urls = [];\n",
       "    if (js_urls == null) js_urls = [];\n",
       "\n",
       "    root._bokeh_onload_callbacks.push(callback);\n",
       "    if (root._bokeh_is_loading > 0) {\n",
       "      console.debug(\"Bokeh: BokehJS is being loaded, scheduling callback at\", now());\n",
       "      return null;\n",
       "    }\n",
       "    if (js_urls == null || js_urls.length === 0) {\n",
       "      run_callbacks();\n",
       "      return null;\n",
       "    }\n",
       "    console.debug(\"Bokeh: BokehJS not loaded, scheduling load and callback at\", now());\n",
       "    root._bokeh_is_loading = css_urls.length + js_urls.length;\n",
       "\n",
       "    function on_load() {\n",
       "      root._bokeh_is_loading--;\n",
       "      if (root._bokeh_is_loading === 0) {\n",
       "        console.debug(\"Bokeh: all BokehJS libraries/stylesheets loaded\");\n",
       "        run_callbacks()\n",
       "      }\n",
       "    }\n",
       "\n",
       "    function on_error(url) {\n",
       "      console.error(\"failed to load \" + url);\n",
       "    }\n",
       "\n",
       "    for (let i = 0; i < css_urls.length; i++) {\n",
       "      const url = css_urls[i];\n",
       "      const element = document.createElement(\"link\");\n",
       "      element.onload = on_load;\n",
       "      element.onerror = on_error.bind(null, url);\n",
       "      element.rel = \"stylesheet\";\n",
       "      element.type = \"text/css\";\n",
       "      element.href = url;\n",
       "      console.debug(\"Bokeh: injecting link tag for BokehJS stylesheet: \", url);\n",
       "      document.body.appendChild(element);\n",
       "    }\n",
       "\n",
       "    for (let i = 0; i < js_urls.length; i++) {\n",
       "      const url = js_urls[i];\n",
       "      const element = document.createElement('script');\n",
       "      element.onload = on_load;\n",
       "      element.onerror = on_error.bind(null, url);\n",
       "      element.async = false;\n",
       "      element.src = url;\n",
       "      console.debug(\"Bokeh: injecting script tag for BokehJS library: \", url);\n",
       "      document.head.appendChild(element);\n",
       "    }\n",
       "  };\n",
       "\n",
       "  function inject_raw_css(css) {\n",
       "    const element = document.createElement(\"style\");\n",
       "    element.appendChild(document.createTextNode(css));\n",
       "    document.body.appendChild(element);\n",
       "  }\n",
       "\n",
       "  const js_urls = [\"https://cdn.bokeh.org/bokeh/release/bokeh-2.4.3.min.js\", \"https://cdn.bokeh.org/bokeh/release/bokeh-gl-2.4.3.min.js\", \"https://cdn.bokeh.org/bokeh/release/bokeh-widgets-2.4.3.min.js\", \"https://cdn.bokeh.org/bokeh/release/bokeh-tables-2.4.3.min.js\", \"https://cdn.bokeh.org/bokeh/release/bokeh-mathjax-2.4.3.min.js\"];\n",
       "  const css_urls = [];\n",
       "\n",
       "  const inline_js = [    function(Bokeh) {\n",
       "      Bokeh.set_log_level(\"info\");\n",
       "    },\n",
       "function(Bokeh) {\n",
       "    }\n",
       "  ];\n",
       "\n",
       "  function run_inline_js() {\n",
       "    if (root.Bokeh !== undefined || force === true) {\n",
       "          for (let i = 0; i < inline_js.length; i++) {\n",
       "      inline_js[i].call(root, root.Bokeh);\n",
       "    }\n",
       "if (force === true) {\n",
       "        display_loaded();\n",
       "      }} else if (Date.now() < root._bokeh_timeout) {\n",
       "      setTimeout(run_inline_js, 100);\n",
       "    } else if (!root._bokeh_failed_load) {\n",
       "      console.log(\"Bokeh: BokehJS failed to load within specified timeout.\");\n",
       "      root._bokeh_failed_load = true;\n",
       "    } else if (force !== true) {\n",
       "      const cell = $(document.getElementById(\"4365\")).parents('.cell').data().cell;\n",
       "      cell.output_area.append_execute_result(NB_LOAD_WARNING)\n",
       "    }\n",
       "  }\n",
       "\n",
       "  if (root._bokeh_is_loading === 0) {\n",
       "    console.debug(\"Bokeh: BokehJS loaded, going straight to plotting\");\n",
       "    run_inline_js();\n",
       "  } else {\n",
       "    load_libs(css_urls, js_urls, function() {\n",
       "      console.debug(\"Bokeh: BokehJS plotting callback run at\", now());\n",
       "      run_inline_js();\n",
       "    });\n",
       "  }\n",
       "}(window));"
      ],
      "application/vnd.bokehjs_load.v0+json": "(function(root) {\n  function now() {\n    return new Date();\n  }\n\n  const force = true;\n\n  if (typeof root._bokeh_onload_callbacks === \"undefined\" || force === true) {\n    root._bokeh_onload_callbacks = [];\n    root._bokeh_is_loading = undefined;\n  }\n\n\n  if (typeof (root._bokeh_timeout) === \"undefined\" || force === true) {\n    root._bokeh_timeout = Date.now() + 5000;\n    root._bokeh_failed_load = false;\n  }\n\n  const NB_LOAD_WARNING = {'data': {'text/html':\n     \"<div style='background-color: #fdd'>\\n\"+\n     \"<p>\\n\"+\n     \"BokehJS does not appear to have successfully loaded. If loading BokehJS from CDN, this \\n\"+\n     \"may be due to a slow or bad network connection. Possible fixes:\\n\"+\n     \"</p>\\n\"+\n     \"<ul>\\n\"+\n     \"<li>re-rerun `output_notebook()` to attempt to load from CDN again, or</li>\\n\"+\n     \"<li>use INLINE resources instead, as so:</li>\\n\"+\n     \"</ul>\\n\"+\n     \"<code>\\n\"+\n     \"from bokeh.resources import INLINE\\n\"+\n     \"output_notebook(resources=INLINE)\\n\"+\n     \"</code>\\n\"+\n     \"</div>\"}};\n\n  function display_loaded() {\n    const el = document.getElementById(\"4365\");\n    if (el != null) {\n      el.textContent = \"BokehJS is loading...\";\n    }\n    if (root.Bokeh !== undefined) {\n      if (el != null) {\n        el.textContent = \"BokehJS \" + root.Bokeh.version + \" successfully loaded.\";\n      }\n    } else if (Date.now() < root._bokeh_timeout) {\n      setTimeout(display_loaded, 100)\n    }\n  }\n\n  function run_callbacks() {\n    try {\n      root._bokeh_onload_callbacks.forEach(function(callback) {\n        if (callback != null)\n          callback();\n      });\n    } finally {\n      delete root._bokeh_onload_callbacks\n    }\n    console.debug(\"Bokeh: all callbacks have finished\");\n  }\n\n  function load_libs(css_urls, js_urls, callback) {\n    if (css_urls == null) css_urls = [];\n    if (js_urls == null) js_urls = [];\n\n    root._bokeh_onload_callbacks.push(callback);\n    if (root._bokeh_is_loading > 0) {\n      console.debug(\"Bokeh: BokehJS is being loaded, scheduling callback at\", now());\n      return null;\n    }\n    if (js_urls == null || js_urls.length === 0) {\n      run_callbacks();\n      return null;\n    }\n    console.debug(\"Bokeh: BokehJS not loaded, scheduling load and callback at\", now());\n    root._bokeh_is_loading = css_urls.length + js_urls.length;\n\n    function on_load() {\n      root._bokeh_is_loading--;\n      if (root._bokeh_is_loading === 0) {\n        console.debug(\"Bokeh: all BokehJS libraries/stylesheets loaded\");\n        run_callbacks()\n      }\n    }\n\n    function on_error(url) {\n      console.error(\"failed to load \" + url);\n    }\n\n    for (let i = 0; i < css_urls.length; i++) {\n      const url = css_urls[i];\n      const element = document.createElement(\"link\");\n      element.onload = on_load;\n      element.onerror = on_error.bind(null, url);\n      element.rel = \"stylesheet\";\n      element.type = \"text/css\";\n      element.href = url;\n      console.debug(\"Bokeh: injecting link tag for BokehJS stylesheet: \", url);\n      document.body.appendChild(element);\n    }\n\n    for (let i = 0; i < js_urls.length; i++) {\n      const url = js_urls[i];\n      const element = document.createElement('script');\n      element.onload = on_load;\n      element.onerror = on_error.bind(null, url);\n      element.async = false;\n      element.src = url;\n      console.debug(\"Bokeh: injecting script tag for BokehJS library: \", url);\n      document.head.appendChild(element);\n    }\n  };\n\n  function inject_raw_css(css) {\n    const element = document.createElement(\"style\");\n    element.appendChild(document.createTextNode(css));\n    document.body.appendChild(element);\n  }\n\n  const js_urls = [\"https://cdn.bokeh.org/bokeh/release/bokeh-2.4.3.min.js\", \"https://cdn.bokeh.org/bokeh/release/bokeh-gl-2.4.3.min.js\", \"https://cdn.bokeh.org/bokeh/release/bokeh-widgets-2.4.3.min.js\", \"https://cdn.bokeh.org/bokeh/release/bokeh-tables-2.4.3.min.js\", \"https://cdn.bokeh.org/bokeh/release/bokeh-mathjax-2.4.3.min.js\"];\n  const css_urls = [];\n\n  const inline_js = [    function(Bokeh) {\n      Bokeh.set_log_level(\"info\");\n    },\nfunction(Bokeh) {\n    }\n  ];\n\n  function run_inline_js() {\n    if (root.Bokeh !== undefined || force === true) {\n          for (let i = 0; i < inline_js.length; i++) {\n      inline_js[i].call(root, root.Bokeh);\n    }\nif (force === true) {\n        display_loaded();\n      }} else if (Date.now() < root._bokeh_timeout) {\n      setTimeout(run_inline_js, 100);\n    } else if (!root._bokeh_failed_load) {\n      console.log(\"Bokeh: BokehJS failed to load within specified timeout.\");\n      root._bokeh_failed_load = true;\n    } else if (force !== true) {\n      const cell = $(document.getElementById(\"4365\")).parents('.cell').data().cell;\n      cell.output_area.append_execute_result(NB_LOAD_WARNING)\n    }\n  }\n\n  if (root._bokeh_is_loading === 0) {\n    console.debug(\"Bokeh: BokehJS loaded, going straight to plotting\");\n    run_inline_js();\n  } else {\n    load_libs(css_urls, js_urls, function() {\n      console.debug(\"Bokeh: BokehJS plotting callback run at\", now());\n      run_inline_js();\n    });\n  }\n}(window));"
     },
     "metadata": {},
     "output_type": "display_data"
    }
   ],
   "source": [
    "pandas_bokeh.output_notebook()\n",
    "# output_file(filename=\"custom_filename.html\", title=\"Static HTML file\")"
   ]
  },
  {
   "cell_type": "markdown",
   "metadata": {},
   "source": [
    "## decide to export as html or embedded in notebook"
   ]
  },
  {
   "cell_type": "code",
   "execution_count": 23,
   "metadata": {},
   "outputs": [],
   "source": [
    "export_html=True # if we want to export html file (True) or show in notebook (false)"
   ]
  },
  {
   "cell_type": "code",
   "execution_count": 24,
   "metadata": {},
   "outputs": [],
   "source": [
    "# rainpreddf=rainpreddf.reset_index()\n",
    "# rainpreddf.set_index(pd.DatetimeIndex(rainpreddf.time), inplace=True)"
   ]
  },
  {
   "cell_type": "code",
   "execution_count": 25,
   "metadata": {},
   "outputs": [],
   "source": [
    "startdate='2022-09-1'\n",
    "enddate='2022-09-20'"
   ]
  },
  {
   "cell_type": "markdown",
   "metadata": {},
   "source": [
    "## Process Apogee"
   ]
  },
  {
   "cell_type": "code",
   "execution_count": 26,
   "metadata": {},
   "outputs": [],
   "source": [
    "def setdftime(df):\n",
    "    '''set dataframe time to be time index'''\n",
    "    df=df.reset_index()\n",
    "    df['TIMESTAMP'] = pd.to_datetime(df.TIMESTAMP,  errors='coerce') \n",
    "    #, format='%Y-%m-%d %H:%M:%S' commented out cause wncwxt timestamp error\n",
    "    df.set_index(pd.DatetimeIndex(df['TIMESTAMP']) , inplace=True)\n",
    "    return df\n"
   ]
  },
  {
   "cell_type": "code",
   "execution_count": 27,
   "metadata": {},
   "outputs": [
    {
     "name": "stderr",
     "output_type": "stream",
     "text": [
      "b'Skipping line 8251: expected 12 fields, saw 16\\n'\n"
     ]
    }
   ],
   "source": [
    "APGdf=pd.read_csv('s3://arable-adse-dev/reference_SFRT_TW/SF_Apogee.csv', error_bad_lines=False, skiprows=3)\n",
    "APGdf.columns=['TIMESTAMP','RECORD','BattV_Avg','PTemp_C_Avg','SWin_Avg','SWout_Avg','LWin_Avg','LWout_Avg','SWnet_Avg','LWnet_Avg','SWalbedo_Avg','NR_Avg']"
   ]
  },
  {
   "cell_type": "code",
   "execution_count": 28,
   "metadata": {},
   "outputs": [],
   "source": [
    "APGdf=setdftime(APGdf)\n",
    "# APGdf.set_index('TIMESTAMP', inplace=True)"
   ]
  },
  {
   "cell_type": "code",
   "execution_count": 29,
   "metadata": {},
   "outputs": [],
   "source": [
    "#assign datatype to numeric\n",
    "APGdf=APGdf.loc[:, APGdf.columns!='TIMESTAMP'].astype(float)\n",
    "# APGdf=APGdf[~'TIMESTAMP'].astype(float)"
   ]
  },
  {
   "cell_type": "code",
   "execution_count": 30,
   "metadata": {},
   "outputs": [],
   "source": [
    "features=['BattV_Avg','PTemp_C_Avg','SWin_Avg','SWout_Avg','LWin_Avg','LWout_Avg','SWnet_Avg','LWnet_Avg','SWalbedo_Avg','NR_Avg']"
   ]
  },
  {
   "cell_type": "markdown",
   "metadata": {},
   "source": [
    "## Process Apogee_WNC"
   ]
  },
  {
   "cell_type": "code",
   "execution_count": 31,
   "metadata": {},
   "outputs": [
    {
     "name": "stderr",
     "output_type": "stream",
     "text": [
      "b'Skipping line 7161: expected 12 fields, saw 22\\nSkipping line 8629: expected 12 fields, saw 22\\nSkipping line 9347: expected 12 fields, saw 23\\nSkipping line 14535: expected 12 fields, saw 17\\nSkipping line 14863: expected 12 fields, saw 17\\nSkipping line 17501: expected 12 fields, saw 17\\n'\n",
      "b'Skipping line 82140: expected 12 fields, saw 23\\nSkipping line 84987: expected 12 fields, saw 22\\n'\n"
     ]
    }
   ],
   "source": [
    "APGdfWNC=pd.read_csv('s3://arable-adse-dev/reference_SFRT_TW/WNC_Apogee.csv', error_bad_lines=False, skiprows=3)\n",
    "APGdfWNC.columns=['TIMESTAMP','RECORD','BattV_Avg','PTemp_C_Avg','SWin_Avg','SWout_Avg','LWin_Avg','LWout_Avg','SWnet_Avg','LWnet_Avg','SWalbedo_Avg','NR_Avg']"
   ]
  },
  {
   "cell_type": "code",
   "execution_count": 32,
   "metadata": {},
   "outputs": [],
   "source": [
    "# APGdfWNC.head()"
   ]
  },
  {
   "cell_type": "code",
   "execution_count": 33,
   "metadata": {},
   "outputs": [],
   "source": [
    "APGdfWNC=setdftime(APGdfWNC)\n",
    "# APGdfWNCWNC.set_index('TIMESTAMP', inplace=True)"
   ]
  },
  {
   "cell_type": "code",
   "execution_count": 34,
   "metadata": {},
   "outputs": [],
   "source": [
    "#assign datatype to numeric\n",
    "APGdfWNC=APGdfWNC.loc[:, APGdfWNC.columns!='TIMESTAMP'].astype(float)\n",
    "# APGdfWNC=APGdfWNC[~'TIMESTAMP'].astype(float)"
   ]
  },
  {
   "cell_type": "code",
   "execution_count": 35,
   "metadata": {},
   "outputs": [],
   "source": [
    "features=['SWin_Avg','SWout_Avg','LWin_Avg','LWout_Avg','SWnet_Avg','LWnet_Avg','SWalbedo_Avg','NR_Avg']"
   ]
  },
  {
   "cell_type": "markdown",
   "metadata": {},
   "source": [
    "## 1. Plot Apogee_WNC vs. Apogee TimeSeries"
   ]
  },
  {
   "cell_type": "code",
   "execution_count": 36,
   "metadata": {},
   "outputs": [],
   "source": [
    "ax=[0]*len(features)\n",
    "for i,feature in enumerate(features):\n",
    "    ax[i] = figure(width=800, height=200, x_axis_type=\"datetime\" ) \n",
    "    ax[i].line(APGdf.loc[startdate: enddate].index.values, APGdf.loc[startdate: enddate][feature], line_color='red', \\\n",
    "           legend_label=\"SF_APG\")\n",
    "    ax[i].line(APGdfWNC.loc[startdate: enddate].index.values, APGdfWNC.loc[startdate: enddate][feature], line_color='green', \\\n",
    "           legend_label=\"APGWNC\")\n",
    "    ax[i].title.text = f'{feature} '\n",
    "\n",
    "#     show(p)\n",
    "\n",
    "res=[ax[i] for i in range(8)]\n",
    "grid_layout = grid(res, nrows=4)\n",
    "\n",
    "if export_html:\n",
    "    output_file(\"APG_compare_timeseries.html\")\n",
    "    save(grid_layout)\n",
    "else: \n",
    "    show(grid_layout)\n"
   ]
  },
  {
   "cell_type": "code",
   "execution_count": 37,
   "metadata": {},
   "outputs": [],
   "source": [
    "#drop null value in TIMESTAMP\n",
    "\n",
    "APGdf = APGdf[APGdf.index.notnull()]\n",
    "APGdfWNC = APGdfWNC[APGdfWNC.index.notnull()]\n",
    "APGdfWNC=APGdfWNC.sort_index()\n",
    "APGdf=APGdf.sort_index()"
   ]
  },
  {
   "cell_type": "code",
   "execution_count": 38,
   "metadata": {},
   "outputs": [],
   "source": [
    "## xplots\n",
    "MergeAPGdfnAPGdfWXT=pd.merge_asof(APGdf, APGdfWNC, left_on='TIMESTAMP', right_on='TIMESTAMP', by='TIMESTAMP')"
   ]
  },
  {
   "cell_type": "code",
   "execution_count": 39,
   "metadata": {},
   "outputs": [
    {
     "name": "stdout",
     "output_type": "stream",
     "text": [
      "['TIMESTAMP', 'index_x', 'RECORD_x', 'BattV_Avg_x', 'PTemp_C_Avg_x', 'SWin_Avg_x', 'SWout_Avg_x', 'LWin_Avg_x', 'LWout_Avg_x', 'SWnet_Avg_x', 'LWnet_Avg_x', 'SWalbedo_Avg_x', 'NR_Avg_x', 'index_y', 'RECORD_y', 'BattV_Avg_y', 'PTemp_C_Avg_y', 'SWin_Avg_y', 'SWout_Avg_y', 'LWin_Avg_y', 'LWout_Avg_y', 'SWnet_Avg_y', 'LWnet_Avg_y', 'SWalbedo_Avg_y', 'NR_Avg_y']\n"
     ]
    }
   ],
   "source": [
    "print(MergeAPGdfnAPGdfWXT.columns.tolist())"
   ]
  },
  {
   "cell_type": "code",
   "execution_count": 40,
   "metadata": {},
   "outputs": [],
   "source": [
    "features3= ['SWin_Avg', 'SWout_Avg', 'LWin_Avg', 'LWout_Avg', \n",
    "            'SWnet_Avg', 'LWnet_Avg', 'SWalbedo_Avg', 'NR_Avg']\n",
    "# MergeAPGdfnAPGdfWXT"
   ]
  },
  {
   "cell_type": "markdown",
   "metadata": {},
   "source": [
    "## 2. Plot Apogee_WNC vs. Apogee Cross Plot"
   ]
  },
  {
   "cell_type": "code",
   "execution_count": 41,
   "metadata": {},
   "outputs": [],
   "source": [
    "p=[0]*len(features3)\n",
    "    \n",
    "for i, feature in enumerate(features3):\n",
    "    p[i] = figure(width=300, height=300) \n",
    "#     f, p[i] = plt.subplots(figsize=(6, 6))\n",
    "    p[i].circle(x=eval(f\"MergeAPGdfnAPGdfWXT.{feature}_x\"),y=eval(f\"MergeAPGdfnAPGdfWXT.{feature}_y\"))\n",
    "    \n",
    "#     p[i] = MergeAPGdfnAPGdfWXT.plot_bokeh(kind=\"scatter\", x=eval(f'{feature}_x'),y=eval(f'{feature}_y'),show_figure=False)\n",
    "    p[i].title.text = f'{feature} '\n",
    "\n",
    "#     show(p[i])\n",
    "res=[p[i] for i in range(8)]\n",
    "grid_layout = grid(res, nrows=3)\n",
    "\n",
    "if export_html:\n",
    "    output_file(\"APG_compare_xplots.html\")\n",
    "    save(grid_layout)\n",
    "else: \n",
    "    show(grid_layout)\n",
    "    "
   ]
  },
  {
   "cell_type": "markdown",
   "metadata": {},
   "source": [
    "# Process WXT Data"
   ]
  },
  {
   "cell_type": "code",
   "execution_count": 42,
   "metadata": {},
   "outputs": [
    {
     "name": "stderr",
     "output_type": "stream",
     "text": [
      "/opt/conda/lib/python3.7/site-packages/IPython/core/interactiveshell.py:3258: DtypeWarning: Columns (2,3,4,6,8,9,10,11,12) have mixed types.Specify dtype option on import or set low_memory=False.\n",
      "  interactivity=interactivity, compiler=compiler, result=result)\n"
     ]
    }
   ],
   "source": [
    "WNCWXT=pd.read_csv('s3://arable-adse-dev/reference_SFRT_TW/WNC_WXT536.csv', error_bad_lines=False, skiprows=3)\n",
    "WNCWXT.columns=['TIMESTAMP','RECORD','WindDir_wxt','WS_ms_wxt_Avg','WS_ms_wxt_Max','WS_ms_wxt_TMx','WS_ms_wxt_Min','WS_ms_wxt_TMn','AirTC_wxt_Avg','RH_wxt_Avg','BP_wxt_Avg','Rain_mm_wxt_Avg','Rain_mm_wxt_Tot']"
   ]
  },
  {
   "cell_type": "code",
   "execution_count": 43,
   "metadata": {},
   "outputs": [
    {
     "data": {
      "text/html": [
       "<div>\n",
       "<style scoped>\n",
       "    .dataframe tbody tr th:only-of-type {\n",
       "        vertical-align: middle;\n",
       "    }\n",
       "\n",
       "    .dataframe tbody tr th {\n",
       "        vertical-align: top;\n",
       "    }\n",
       "\n",
       "    .dataframe thead th {\n",
       "        text-align: right;\n",
       "    }\n",
       "</style>\n",
       "<table border=\"1\" class=\"dataframe\">\n",
       "  <thead>\n",
       "    <tr style=\"text-align: right;\">\n",
       "      <th></th>\n",
       "      <th>TIMESTAMP</th>\n",
       "      <th>RECORD</th>\n",
       "      <th>WindDir_wxt</th>\n",
       "      <th>WS_ms_wxt_Avg</th>\n",
       "      <th>WS_ms_wxt_Max</th>\n",
       "      <th>WS_ms_wxt_TMx</th>\n",
       "      <th>WS_ms_wxt_Min</th>\n",
       "      <th>WS_ms_wxt_TMn</th>\n",
       "      <th>AirTC_wxt_Avg</th>\n",
       "      <th>RH_wxt_Avg</th>\n",
       "      <th>BP_wxt_Avg</th>\n",
       "      <th>Rain_mm_wxt_Avg</th>\n",
       "      <th>Rain_mm_wxt_Tot</th>\n",
       "    </tr>\n",
       "  </thead>\n",
       "  <tbody>\n",
       "    <tr>\n",
       "      <th>0</th>\n",
       "      <td>7/14/22 20:27</td>\n",
       "      <td>54</td>\n",
       "      <td>267</td>\n",
       "      <td>1.8</td>\n",
       "      <td>3.4</td>\n",
       "      <td>7/14/22 20:26</td>\n",
       "      <td>0.6</td>\n",
       "      <td>7/14/22 20:26</td>\n",
       "      <td>19.45</td>\n",
       "      <td>61.2</td>\n",
       "      <td>101.2</td>\n",
       "      <td>0</td>\n",
       "      <td>0</td>\n",
       "    </tr>\n",
       "    <tr>\n",
       "      <th>1</th>\n",
       "      <td>7/14/22 20:28</td>\n",
       "      <td>55</td>\n",
       "      <td>110</td>\n",
       "      <td>1.35</td>\n",
       "      <td>3.2</td>\n",
       "      <td>7/14/22 20:27</td>\n",
       "      <td>0.5</td>\n",
       "      <td>7/14/22 20:27</td>\n",
       "      <td>19.35</td>\n",
       "      <td>61.7</td>\n",
       "      <td>101.2</td>\n",
       "      <td>0</td>\n",
       "      <td>0</td>\n",
       "    </tr>\n",
       "  </tbody>\n",
       "</table>\n",
       "</div>"
      ],
      "text/plain": [
       "       TIMESTAMP  RECORD WindDir_wxt WS_ms_wxt_Avg WS_ms_wxt_Max  \\\n",
       "0  7/14/22 20:27      54         267           1.8           3.4   \n",
       "1  7/14/22 20:28      55         110          1.35           3.2   \n",
       "\n",
       "   WS_ms_wxt_TMx WS_ms_wxt_Min  WS_ms_wxt_TMn AirTC_wxt_Avg RH_wxt_Avg  \\\n",
       "0  7/14/22 20:26           0.6  7/14/22 20:26         19.45       61.2   \n",
       "1  7/14/22 20:27           0.5  7/14/22 20:27         19.35       61.7   \n",
       "\n",
       "  BP_wxt_Avg Rain_mm_wxt_Avg Rain_mm_wxt_Tot  \n",
       "0      101.2               0               0  \n",
       "1      101.2               0               0  "
      ]
     },
     "execution_count": 43,
     "metadata": {},
     "output_type": "execute_result"
    }
   ],
   "source": [
    "\n",
    "setdftime(WNCWXT)\n",
    "WNCWXT.head(2)\n"
   ]
  },
  {
   "cell_type": "markdown",
   "metadata": {},
   "source": [
    "## Process WXT"
   ]
  },
  {
   "cell_type": "code",
   "execution_count": 44,
   "metadata": {},
   "outputs": [],
   "source": [
    "# WXT=pd.read_csv('s3://arable-adse-dev/rain_classification_april_2022/SFRT_TW_ref/WNC_WXT536.csv', error_bad_lines=False, skiprows=4)\n",
    "WXT=pd.read_csv('s3://arable-adse-dev/reference_SFRT_TW/SF_WXT536.csv', error_bad_lines=False, skiprows=4)\n",
    "WXT.columns=['TIMESTAMP','RECORD','WindDir_wxt','WS_ms_wxt_Avg','WS_ms_wxt_Max','WS_ms_wxt_TMx','WS_ms_wxt_Min','WS_ms_wxt_TMn','AirTC_wxt_Avg','RH_wxt_Avg','BP_wxt_Avg','Rain_mm_wxt_Avg','Rain_mm_wxt_Tot']"
   ]
  },
  {
   "cell_type": "code",
   "execution_count": 45,
   "metadata": {},
   "outputs": [],
   "source": [
    "WXT=setdftime(WXT)\n",
    "# WXT"
   ]
  },
  {
   "cell_type": "code",
   "execution_count": 46,
   "metadata": {},
   "outputs": [],
   "source": [
    "#assign datatype to numeric\n",
    "WXT=WXT[WXT.columns[~WXT.columns.isin(['TIMESTAMP', 'WS_ms_wxt_TMx', 'WS_ms_wxt_TMn'])]].astype(float)"
   ]
  },
  {
   "cell_type": "code",
   "execution_count": 47,
   "metadata": {},
   "outputs": [],
   "source": [
    "features=['WindDir_wxt','WS_ms_wxt_Avg','WS_ms_wxt_Max','WS_ms_wxt_Min','AirTC_wxt_Avg','RH_wxt_Avg','BP_wxt_Avg','Rain_mm_wxt_Avg','Rain_mm_wxt_Tot']"
   ]
  },
  {
   "cell_type": "markdown",
   "metadata": {},
   "source": [
    "## Process WXTWNC"
   ]
  },
  {
   "cell_type": "code",
   "execution_count": 48,
   "metadata": {},
   "outputs": [
    {
     "name": "stderr",
     "output_type": "stream",
     "text": [
      "/opt/conda/lib/python3.7/site-packages/IPython/core/interactiveshell.py:3258: DtypeWarning: Columns (2,3,4,6,8,9,10,11,12) have mixed types.Specify dtype option on import or set low_memory=False.\n",
      "  interactivity=interactivity, compiler=compiler, result=result)\n"
     ]
    }
   ],
   "source": [
    "WXTWNC=pd.read_csv('s3://arable-adse-dev/reference_SFRT_TW/WNC_WXT536.csv', error_bad_lines=False, skiprows=4)\n",
    "WXTWNC.columns=['TIMESTAMP','RECORD','WindDir_wxt','WS_ms_wxt_Avg','WS_ms_wxt_Max','WS_ms_wxt_TMx','WS_ms_wxt_Min','WS_ms_wxt_TMn','AirTC_wxt_Avg','RH_wxt_Avg','BP_wxt_Avg','Rain_mm_wxt_Avg','Rain_mm_wxt_Tot']"
   ]
  },
  {
   "cell_type": "code",
   "execution_count": 49,
   "metadata": {},
   "outputs": [],
   "source": [
    "WXTWNC=setdftime(WXTWNC)\n",
    "# APGdfWNCWNC.set_index('TIMESTAMP', inplace=True)"
   ]
  },
  {
   "cell_type": "code",
   "execution_count": 50,
   "metadata": {},
   "outputs": [],
   "source": [
    "#assign datatype to numeric\n",
    "WXTWNC=WXTWNC[WXTWNC.columns[~WXTWNC.columns.isin(['TIMESTAMP', 'WS_ms_wxt_TMx', 'WS_ms_wxt_TMn'])]].astype(float)"
   ]
  },
  {
   "cell_type": "code",
   "execution_count": 51,
   "metadata": {},
   "outputs": [],
   "source": [
    "features2=['WindDir_wxt', 'WS_ms_wxt_Avg', 'WS_ms_wxt_Max', \n",
    "           'WS_ms_wxt_Min', 'AirTC_wxt_Avg', 'RH_wxt_Avg', 'BP_wxt_Avg', 'Rain_mm_wxt_Avg', 'Rain_mm_wxt_Tot']"
   ]
  },
  {
   "cell_type": "markdown",
   "metadata": {},
   "source": [
    "## 3. Plot WXT vs. WXTNC TimeSeries"
   ]
  },
  {
   "cell_type": "code",
   "execution_count": 52,
   "metadata": {},
   "outputs": [],
   "source": [
    "p=[0]*len(features2)\n",
    "for i, feature in enumerate(features2):\n",
    "    p[i] = figure(width=800, height=200,x_axis_type=\"datetime\") \n",
    "    p[i].line(WXT.loc[startdate: enddate].index.values, WXT.loc[startdate: enddate][feature], line_color='red', \\\n",
    "           legend_label=\"SF_WXT\")\n",
    "    p[i].line(WXTWNC.loc[startdate: enddate].index.values, WXTWNC.loc[startdate: enddate][feature], line_color='green', \\\n",
    "           legend_label=\"WXTWNC\")\n",
    "    p[i].title.text = f'{feature} '\n",
    "\n",
    "#     show(p)\n",
    "\n",
    "res=[p[i] for i in range(len(features2))]\n",
    "grid_layout = grid(res, nrows=5)\n",
    "\n",
    "if export_html:\n",
    "    output_file(\"WXT_compare_timeseries.html\")\n",
    "    save(grid_layout)\n",
    "else: \n",
    "    show(grid_layout)"
   ]
  },
  {
   "cell_type": "code",
   "execution_count": 53,
   "metadata": {},
   "outputs": [],
   "source": [
    "#drop null value in TIMESTAMP\n",
    "\n",
    "WXT = WXT[WXT.index.notnull()]\n",
    "WXTWNC = WXTWNC[WXTWNC.index.notnull()]\n",
    "WXTWNC=WXTWNC.sort_index()\n",
    "WXT=WXT.sort_index()"
   ]
  },
  {
   "cell_type": "code",
   "execution_count": 54,
   "metadata": {},
   "outputs": [],
   "source": [
    "## xplots\n",
    "MergeWXTnWXTWNC=pd.merge_asof(WXT, WXTWNC, left_on='TIMESTAMP', right_on='TIMESTAMP', by='TIMESTAMP')"
   ]
  },
  {
   "cell_type": "code",
   "execution_count": 55,
   "metadata": {},
   "outputs": [],
   "source": [
    "feature2=[c for c in MergeWXTnWXTWNC.columns.tolist() if c not in ['TIMESTAMP', 'index_x', 'index_y' , 'RECORD_x', 'RECORD_y']]"
   ]
  },
  {
   "cell_type": "code",
   "execution_count": 56,
   "metadata": {},
   "outputs": [
    {
     "name": "stdout",
     "output_type": "stream",
     "text": [
      "['TIMESTAMP', 'index_x', 'RECORD_x', 'WindDir_wxt_x', 'WS_ms_wxt_Avg_x', 'WS_ms_wxt_Max_x', 'WS_ms_wxt_Min_x', 'AirTC_wxt_Avg_x', 'RH_wxt_Avg_x', 'BP_wxt_Avg_x', 'Rain_mm_wxt_Avg_x', 'Rain_mm_wxt_Tot_x', 'index_y', 'RECORD_y', 'WindDir_wxt_y', 'WS_ms_wxt_Avg_y', 'WS_ms_wxt_Max_y', 'WS_ms_wxt_Min_y', 'AirTC_wxt_Avg_y', 'RH_wxt_Avg_y', 'BP_wxt_Avg_y', 'Rain_mm_wxt_Avg_y', 'Rain_mm_wxt_Tot_y']\n"
     ]
    }
   ],
   "source": [
    "print(MergeWXTnWXTWNC.columns.tolist())"
   ]
  },
  {
   "cell_type": "markdown",
   "metadata": {},
   "source": [
    "## 4. Plot WXT vs. WXTNC Crossplots"
   ]
  },
  {
   "cell_type": "code",
   "execution_count": 57,
   "metadata": {},
   "outputs": [],
   "source": [
    "feature2=['WindDir_wxt', 'WS_ms_wxt_Avg', 'WS_ms_wxt_Max', 'WS_ms_wxt_Min', 'AirTC_wxt_Avg', 'RH_wxt_Avg', 'BP_wxt_Avg', 'Rain_mm_wxt_Avg', 'Rain_mm_wxt_Tot']\n",
    "ay=[0]*len(features2)\n",
    "for i, feature in enumerate(features2):\n",
    "    ay[i]= figure(width=300, height=300)\n",
    "    ay[i].circle(x=eval(f'MergeWXTnWXTWNC.{feature}_x'), y=eval(f'MergeWXTnWXTWNC.{feature}_y'))\n",
    "#     p.line(x=[eval(f'MergeWXTnWXTWNC.{feature}_x.min()'), eval(f'MergeWXTnWXTWNC.{feature}_y.min()')],\n",
    "#            y=[eval(f'MergeWXTnWXTWNC.{feature}_x.may()'), eval(f'MergeWXTnWXTWNC.{feature}_y.may()')])\n",
    "    ay[i].title.text = f'{feature}'\n",
    "\n",
    "#     show(ay[i])\n",
    "res=[ay[i] for i in range(len(feature2))]\n",
    "grid_layout = grid(res, nrows=4)\n",
    "\n",
    "if export_html:\n",
    "    output_file(\"WXT_compare_xplots.html\")\n",
    "    save(grid_layout)\n",
    "else: \n",
    "    show(grid_layout)"
   ]
  },
  {
   "cell_type": "code",
   "execution_count": null,
   "metadata": {},
   "outputs": [],
   "source": []
  },
  {
   "cell_type": "markdown",
   "metadata": {},
   "source": [
    "## Process Spectrafy"
   ]
  },
  {
   "cell_type": "code",
   "execution_count": 58,
   "metadata": {},
   "outputs": [
    {
     "name": "stderr",
     "output_type": "stream",
     "text": [
      "b'Skipping line 11726: expected 16 fields, saw 24\\nSkipping line 13007: expected 16 fields, saw 27\\nSkipping line 13422: expected 16 fields, saw 25\\n'\n"
     ]
    }
   ],
   "source": [
    "SF_Spetrafy=pd.read_csv('s3://arable-adse-dev/reference_SFRT_TW/SF_Spectrafy_G_dw.csv', error_bad_lines=False, skiprows=3) #, skiprows=4\n",
    "SF_Spetrafy.columns=[\"TIMESTAMP\",\"RECORD\",\"AmbientTemperature_dw_Avg\",\"AmbientPressure_dw_Avg\",\"AmbientHumidity_dw_Avg\",\"InternalTemp_dw_Avg\",\"InternalHumidity_dw_Avg\",\"ChannelVolt1_dw_Avg\",\"ChannelVolt2_dw_Avg\",\"ChannelVolt3_dw_Avg\",\"ChannelVolt4_dw_Avg\",\"ChannelVolt5_dw_Avg\",\"ChannelVolt6_dw_Avg\",\"ChannelVolt7_dw_Avg\",\"ChannelVolt8_dw_Avg\",\"ChannelVolt9_dw_Avg\"]"
   ]
  },
  {
   "cell_type": "code",
   "execution_count": 59,
   "metadata": {},
   "outputs": [
    {
     "data": {
      "text/html": [
       "<div>\n",
       "<style scoped>\n",
       "    .dataframe tbody tr th:only-of-type {\n",
       "        vertical-align: middle;\n",
       "    }\n",
       "\n",
       "    .dataframe tbody tr th {\n",
       "        vertical-align: top;\n",
       "    }\n",
       "\n",
       "    .dataframe thead th {\n",
       "        text-align: right;\n",
       "    }\n",
       "</style>\n",
       "<table border=\"1\" class=\"dataframe\">\n",
       "  <thead>\n",
       "    <tr style=\"text-align: right;\">\n",
       "      <th></th>\n",
       "      <th>TIMESTAMP</th>\n",
       "      <th>RECORD</th>\n",
       "      <th>AmbientTemperature_dw_Avg</th>\n",
       "      <th>AmbientPressure_dw_Avg</th>\n",
       "      <th>AmbientHumidity_dw_Avg</th>\n",
       "      <th>InternalTemp_dw_Avg</th>\n",
       "      <th>InternalHumidity_dw_Avg</th>\n",
       "      <th>ChannelVolt1_dw_Avg</th>\n",
       "      <th>ChannelVolt2_dw_Avg</th>\n",
       "      <th>ChannelVolt3_dw_Avg</th>\n",
       "      <th>ChannelVolt4_dw_Avg</th>\n",
       "      <th>ChannelVolt5_dw_Avg</th>\n",
       "      <th>ChannelVolt6_dw_Avg</th>\n",
       "      <th>ChannelVolt7_dw_Avg</th>\n",
       "      <th>ChannelVolt8_dw_Avg</th>\n",
       "      <th>ChannelVolt9_dw_Avg</th>\n",
       "    </tr>\n",
       "  </thead>\n",
       "  <tbody>\n",
       "    <tr>\n",
       "      <th>13731</th>\n",
       "      <td>2022-09-09 14:21:00</td>\n",
       "      <td>13480</td>\n",
       "      <td>14.48889</td>\n",
       "      <td>99.94538</td>\n",
       "      <td>70.33495</td>\n",
       "      <td>16.1862</td>\n",
       "      <td>3.776753</td>\n",
       "      <td>95.63766</td>\n",
       "      <td>92.68433</td>\n",
       "      <td>81.29183</td>\n",
       "      <td>64.45583</td>\n",
       "      <td>92.46582</td>\n",
       "      <td>64.131</td>\n",
       "      <td>28.11283</td>\n",
       "      <td>58.738</td>\n",
       "      <td>7.211833</td>\n",
       "    </tr>\n",
       "    <tr>\n",
       "      <th>5051</th>\n",
       "      <td>2022-09-03 12:54:00</td>\n",
       "      <td>4782</td>\n",
       "      <td>14.30126</td>\n",
       "      <td>101.1304</td>\n",
       "      <td>71.7819</td>\n",
       "      <td>16.16016</td>\n",
       "      <td>3.749185</td>\n",
       "      <td>0.181</td>\n",
       "      <td>0.2698333</td>\n",
       "      <td>0.2116667</td>\n",
       "      <td>0.2616667</td>\n",
       "      <td>0.1858333</td>\n",
       "      <td>0.1791667</td>\n",
       "      <td>0.2218333</td>\n",
       "      <td>0.2515</td>\n",
       "      <td>0.281</td>\n",
       "    </tr>\n",
       "    <tr>\n",
       "      <th>14031</th>\n",
       "      <td>2022-09-09 19:29:00</td>\n",
       "      <td>13780</td>\n",
       "      <td>29.82499</td>\n",
       "      <td>99.82428</td>\n",
       "      <td>28.86847</td>\n",
       "      <td>31.84244</td>\n",
       "      <td>3.979536</td>\n",
       "      <td>1867.393</td>\n",
       "      <td>1765.737</td>\n",
       "      <td>1641.458</td>\n",
       "      <td>1668.552</td>\n",
       "      <td>2177.802</td>\n",
       "      <td>1790.151</td>\n",
       "      <td>1392.226</td>\n",
       "      <td>2376.296</td>\n",
       "      <td>304.7305</td>\n",
       "    </tr>\n",
       "    <tr>\n",
       "      <th>8361</th>\n",
       "      <td>2022-09-05 20:25:00</td>\n",
       "      <td>8092</td>\n",
       "      <td>42.8547</td>\n",
       "      <td>100.4857</td>\n",
       "      <td>13.53138</td>\n",
       "      <td>44.61719</td>\n",
       "      <td>4.17908</td>\n",
       "      <td>2014.126</td>\n",
       "      <td>1866.066</td>\n",
       "      <td>1726.524</td>\n",
       "      <td>1745.762</td>\n",
       "      <td>2271.242</td>\n",
       "      <td>1857.333</td>\n",
       "      <td>1205.329</td>\n",
       "      <td>2428.221</td>\n",
       "      <td>324.1591</td>\n",
       "    </tr>\n",
       "    <tr>\n",
       "      <th>11502</th>\n",
       "      <td>2022-09-08 00:47:00</td>\n",
       "      <td>11233</td>\n",
       "      <td>26.17089</td>\n",
       "      <td>100.9635</td>\n",
       "      <td>42.30587</td>\n",
       "      <td>28.36458</td>\n",
       "      <td>3.933978</td>\n",
       "      <td>543.4314</td>\n",
       "      <td>552.0788</td>\n",
       "      <td>550.4023</td>\n",
       "      <td>572.4885</td>\n",
       "      <td>795.3108</td>\n",
       "      <td>685.1888</td>\n",
       "      <td>223.6493</td>\n",
       "      <td>903.3091</td>\n",
       "      <td>118.6987</td>\n",
       "    </tr>\n",
       "  </tbody>\n",
       "</table>\n",
       "</div>"
      ],
      "text/plain": [
       "                 TIMESTAMP  RECORD AmbientTemperature_dw_Avg  \\\n",
       "13731  2022-09-09 14:21:00   13480                  14.48889   \n",
       "5051   2022-09-03 12:54:00    4782                  14.30126   \n",
       "14031  2022-09-09 19:29:00   13780                  29.82499   \n",
       "8361   2022-09-05 20:25:00    8092                   42.8547   \n",
       "11502  2022-09-08 00:47:00   11233                  26.17089   \n",
       "\n",
       "      AmbientPressure_dw_Avg AmbientHumidity_dw_Avg InternalTemp_dw_Avg  \\\n",
       "13731               99.94538               70.33495             16.1862   \n",
       "5051                101.1304                71.7819            16.16016   \n",
       "14031               99.82428               28.86847            31.84244   \n",
       "8361                100.4857               13.53138            44.61719   \n",
       "11502               100.9635               42.30587            28.36458   \n",
       "\n",
       "      InternalHumidity_dw_Avg ChannelVolt1_dw_Avg ChannelVolt2_dw_Avg  \\\n",
       "13731                3.776753            95.63766            92.68433   \n",
       "5051                 3.749185               0.181           0.2698333   \n",
       "14031                3.979536            1867.393            1765.737   \n",
       "8361                  4.17908            2014.126            1866.066   \n",
       "11502                3.933978            543.4314            552.0788   \n",
       "\n",
       "      ChannelVolt3_dw_Avg ChannelVolt4_dw_Avg ChannelVolt5_dw_Avg  \\\n",
       "13731            81.29183            64.45583            92.46582   \n",
       "5051            0.2116667           0.2616667           0.1858333   \n",
       "14031            1641.458            1668.552            2177.802   \n",
       "8361             1726.524            1745.762            2271.242   \n",
       "11502            550.4023            572.4885            795.3108   \n",
       "\n",
       "      ChannelVolt6_dw_Avg ChannelVolt7_dw_Avg ChannelVolt8_dw_Avg  \\\n",
       "13731              64.131            28.11283              58.738   \n",
       "5051            0.1791667           0.2218333              0.2515   \n",
       "14031            1790.151            1392.226            2376.296   \n",
       "8361             1857.333            1205.329            2428.221   \n",
       "11502            685.1888            223.6493            903.3091   \n",
       "\n",
       "      ChannelVolt9_dw_Avg  \n",
       "13731            7.211833  \n",
       "5051                0.281  \n",
       "14031            304.7305  \n",
       "8361             324.1591  \n",
       "11502            118.6987  "
      ]
     },
     "execution_count": 59,
     "metadata": {},
     "output_type": "execute_result"
    }
   ],
   "source": [
    "SF_Spetrafy.sample(5)"
   ]
  },
  {
   "cell_type": "code",
   "execution_count": 60,
   "metadata": {},
   "outputs": [],
   "source": [
    "SF_Spetrafy=setdftime(SF_Spetrafy)\n",
    "# APGdfWNCWNC.set_index('TIMESTAMP', inplace=True)"
   ]
  },
  {
   "cell_type": "code",
   "execution_count": 61,
   "metadata": {},
   "outputs": [],
   "source": [
    "#assign datatype to numeric\n",
    "SF_Spetrafy=SF_Spetrafy[SF_Spetrafy.columns[~SF_Spetrafy.columns.isin(['TIMESTAMP', 'RECORD'])]].astype(float)"
   ]
  },
  {
   "cell_type": "code",
   "execution_count": 62,
   "metadata": {},
   "outputs": [],
   "source": [
    "features=[\"AmbientTemperature_dw_Avg\",\"AmbientPressure_dw_Avg\",\"AmbientHumidity_dw_Avg\",\"InternalTemp_dw_Avg\",\"InternalHumidity_dw_Avg\",\"ChannelVolt1_dw_Avg\",\"ChannelVolt2_dw_Avg\",\"ChannelVolt3_dw_Avg\",\"ChannelVolt4_dw_Avg\",\"ChannelVolt5_dw_Avg\",\"ChannelVolt6_dw_Avg\",\"ChannelVolt7_dw_Avg\",\"ChannelVolt8_dw_Avg\",\"ChannelVolt9_dw_Avg\"]"
   ]
  },
  {
   "cell_type": "code",
   "execution_count": 63,
   "metadata": {},
   "outputs": [
    {
     "name": "stderr",
     "output_type": "stream",
     "text": [
      "b'Skipping line 20069: expected 16 fields, saw 23\\n'\n",
      "b'Skipping line 40177: expected 16 fields, saw 24\\nSkipping line 41072: expected 16 fields, saw 25\\nSkipping line 45327: expected 16 fields, saw 28\\n'\n",
      "/opt/conda/lib/python3.7/site-packages/IPython/core/interactiveshell.py:3258: DtypeWarning: Columns (2,3,4,5,6,7,8,9,10,11,12,13,14,15) have mixed types.Specify dtype option on import or set low_memory=False.\n",
      "  interactivity=interactivity, compiler=compiler, result=result)\n"
     ]
    }
   ],
   "source": [
    "WNC_Spetrafy=pd.read_csv('s3://arable-adse-dev/reference_SFRT_TW/WNC_Spectrafy_G_dw.csv', error_bad_lines=False, skiprows=3) #, skiprows=4\n",
    "WNC_Spetrafy.columns=[\"TIMESTAMP\",\"RECORD\",\"AmbientTemperature_dw_Avg\",\"AmbientPressure_dw_Avg\",\"AmbientHumidity_dw_Avg\",\"InternalTemp_dw_Avg\",\"InternalHumidity_dw_Avg\",\"ChannelVolt1_dw_Avg\",\"ChannelVolt2_dw_Avg\",\"ChannelVolt3_dw_Avg\",\"ChannelVolt4_dw_Avg\",\"ChannelVolt5_dw_Avg\",\"ChannelVolt6_dw_Avg\",\"ChannelVolt7_dw_Avg\",\"ChannelVolt8_dw_Avg\",\"ChannelVolt9_dw_Avg\"]"
   ]
  },
  {
   "cell_type": "code",
   "execution_count": 64,
   "metadata": {},
   "outputs": [],
   "source": [
    "WNC_Spetrafy=setdftime(WNC_Spetrafy)\n",
    "# APGdfWNCWNC.set_index('TIMESTAMP', inplace=True)"
   ]
  },
  {
   "cell_type": "code",
   "execution_count": 65,
   "metadata": {},
   "outputs": [],
   "source": [
    "#assign datatype to numeric\n",
    "WNC_Spetrafy=WNC_Spetrafy[WNC_Spetrafy.columns[~WNC_Spetrafy.columns.isin(['TIMESTAMP', 'RECORD'])]].astype(float)"
   ]
  },
  {
   "cell_type": "code",
   "execution_count": 66,
   "metadata": {},
   "outputs": [],
   "source": [
    "features=[\"AmbientTemperature_dw_Avg\",\"AmbientPressure_dw_Avg\",\"AmbientHumidity_dw_Avg\",\"InternalTemp_dw_Avg\",\"ChannelVolt1_dw_Avg\",\"ChannelVolt2_dw_Avg\",\"ChannelVolt3_dw_Avg\",\"ChannelVolt4_dw_Avg\",\"ChannelVolt5_dw_Avg\",\"ChannelVolt6_dw_Avg\",\"ChannelVolt7_dw_Avg\",\"ChannelVolt8_dw_Avg\",\"ChannelVolt9_dw_Avg\"]"
   ]
  },
  {
   "cell_type": "markdown",
   "metadata": {},
   "source": [
    "## 3. Plot SF vs. WNC Spectrafy TimeSeries"
   ]
  },
  {
   "cell_type": "code",
   "execution_count": 67,
   "metadata": {},
   "outputs": [],
   "source": [
    "p=[0]*len(features)\n",
    "for i, feature in enumerate(features):\n",
    "    p[i] = figure(width=800, height=200,x_axis_type=\"datetime\") \n",
    "    p[i].line(SF_Spetrafy.loc[startdate: enddate].index.values, SF_Spetrafy.loc[startdate: enddate][feature], line_color='red', \\\n",
    "           legend_label=\"SF_Spetrafy\")\n",
    "    p[i].line(WNC_Spetrafy.loc[startdate: enddate].index.values, WNC_Spetrafy.loc[startdate: enddate][feature], line_color='green', \\\n",
    "           legend_label=\"WNC_Spetrafy\")\n",
    "    p[i].title.text = f'{feature} '\n",
    "\n",
    "res=[p[i] for i in range(9)]\n",
    "grid_layout = grid(res, nrows=5)\n",
    "\n",
    "if export_html:\n",
    "    output_file(\"Spectrafy_compare_timeseries.html\")\n",
    "    save(grid_layout)\n",
    "else: \n",
    "    show(grid_layout)"
   ]
  },
  {
   "cell_type": "code",
   "execution_count": 68,
   "metadata": {},
   "outputs": [],
   "source": [
    "#drop null value in TIMESTAMP\n",
    "\n",
    "WNC_Spetrafy = WNC_Spetrafy[WNC_Spetrafy.index.notnull()]\n",
    "SF_Spetrafy = SF_Spetrafy[SF_Spetrafy.index.notnull()]\n",
    "SF_Spetrafy=SF_Spetrafy.sort_index()\n",
    "WNC_Spetrafy=WNC_Spetrafy.sort_index()"
   ]
  },
  {
   "cell_type": "code",
   "execution_count": 69,
   "metadata": {},
   "outputs": [],
   "source": [
    "## xplots\n",
    "MergeWNC_SF_Spetrafy=pd.merge_asof(WNC_Spetrafy, SF_Spetrafy, left_on='TIMESTAMP', right_on='TIMESTAMP', by='TIMESTAMP')"
   ]
  },
  {
   "cell_type": "code",
   "execution_count": 70,
   "metadata": {},
   "outputs": [],
   "source": [
    "feature2=[c for c in MergeWNC_SF_Spetrafy.columns.tolist() if c not in ['TIMESTAMP', 'index_x', 'index_y' , 'RECORD_x', 'RECORD_y']]"
   ]
  },
  {
   "cell_type": "code",
   "execution_count": 71,
   "metadata": {},
   "outputs": [
    {
     "name": "stdout",
     "output_type": "stream",
     "text": [
      "['TIMESTAMP', 'index_x', 'AmbientTemperature_dw_Avg_x', 'AmbientPressure_dw_Avg_x', 'AmbientHumidity_dw_Avg_x', 'InternalTemp_dw_Avg_x', 'InternalHumidity_dw_Avg_x', 'ChannelVolt1_dw_Avg_x', 'ChannelVolt2_dw_Avg_x', 'ChannelVolt3_dw_Avg_x', 'ChannelVolt4_dw_Avg_x', 'ChannelVolt5_dw_Avg_x', 'ChannelVolt6_dw_Avg_x', 'ChannelVolt7_dw_Avg_x', 'ChannelVolt8_dw_Avg_x', 'ChannelVolt9_dw_Avg_x', 'index_y', 'AmbientTemperature_dw_Avg_y', 'AmbientPressure_dw_Avg_y', 'AmbientHumidity_dw_Avg_y', 'InternalTemp_dw_Avg_y', 'InternalHumidity_dw_Avg_y', 'ChannelVolt1_dw_Avg_y', 'ChannelVolt2_dw_Avg_y', 'ChannelVolt3_dw_Avg_y', 'ChannelVolt4_dw_Avg_y', 'ChannelVolt5_dw_Avg_y', 'ChannelVolt6_dw_Avg_y', 'ChannelVolt7_dw_Avg_y', 'ChannelVolt8_dw_Avg_y', 'ChannelVolt9_dw_Avg_y']\n"
     ]
    }
   ],
   "source": [
    "print(MergeWNC_SF_Spetrafy.columns.tolist())"
   ]
  },
  {
   "cell_type": "markdown",
   "metadata": {},
   "source": [
    "## 4. Plot WNC_Spetrafy vs. WNC_SpetrafyNC Crossplots"
   ]
  },
  {
   "cell_type": "code",
   "execution_count": 72,
   "metadata": {},
   "outputs": [],
   "source": [
    "feature2=[\"AmbientTemperature_dw_Avg\",\"AmbientPressure_dw_Avg\",\"AmbientHumidity_dw_Avg\",\"ChannelVolt1_dw_Avg\",\"ChannelVolt2_dw_Avg\",\"ChannelVolt3_dw_Avg\",\"ChannelVolt4_dw_Avg\",\"ChannelVolt5_dw_Avg\",\"ChannelVolt6_dw_Avg\",\"ChannelVolt7_dw_Avg\",\"ChannelVolt8_dw_Avg\",\"ChannelVolt9_dw_Avg\"]\n",
    "ay=[0]*len(feature2)\n",
    "for i, feature in enumerate(feature2):\n",
    "#     print(feature)\n",
    "    ay[i]= figure(width=300, height=300)\n",
    "    ay[i].circle(x=eval(f'MergeWNC_SF_Spetrafy.{feature}_x'), y=eval(f'MergeWNC_SF_Spetrafy.{feature}_y'))\n",
    "    ay[i].title.text = f'{feature}'\n",
    "\n",
    "res=[ay[i] for i in range(8)]\n",
    "grid_layout = grid(res, nrows=3)\n",
    "\n",
    "if export_html:\n",
    "    output_file(\"Spectrafy_compare_xplots.html\")\n",
    "    save(grid_layout)\n",
    "else: \n",
    "    show(grid_layout)"
   ]
  },
  {
   "cell_type": "markdown",
   "metadata": {},
   "source": [
    "# Summary"
   ]
  },
  {
   "cell_type": "markdown",
   "metadata": {},
   "source": [
    "## This Notebook could be used to check consistency between WNC and SF reference devices"
   ]
  },
  {
   "cell_type": "code",
   "execution_count": null,
   "metadata": {},
   "outputs": [],
   "source": []
  }
 ],
 "metadata": {
  "instance_type": "ml.t3.medium",
  "kernelspec": {
   "display_name": "Python 3 (Data Science)",
   "language": "python",
   "name": "python3__SAGEMAKER_INTERNAL__arn:aws:sagemaker:us-east-1:081325390199:image/datascience-1.0"
  },
  "language_info": {
   "codemirror_mode": {
    "name": "ipython",
    "version": 3
   },
   "file_extension": ".py",
   "mimetype": "text/x-python",
   "name": "python",
   "nbconvert_exporter": "python",
   "pygments_lexer": "ipython3",
   "version": "3.7.10"
  }
 },
 "nbformat": 4,
 "nbformat_minor": 4
}
